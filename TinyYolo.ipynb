{
  "nbformat": 4,
  "nbformat_minor": 0,
  "metadata": {
    "colab": {
      "name": "TinyYolo.ipynb",
      "provenance": [],
      "collapsed_sections": []
    },
    "kernelspec": {
      "name": "python3",
      "display_name": "Python 3"
    },
    "language_info": {
      "name": "python"
    },
    "accelerator": "GPU"
  },
  "cells": [
    {
      "cell_type": "code",
      "metadata": {
        "colab": {
          "base_uri": "https://localhost:8080/"
        },
        "id": "KeMl1AUeM9Or",
        "outputId": "ce8da52a-49bf-4e21-9d8e-c7b901f9e7a2"
      },
      "source": [
        "from google.colab import drive\n",
        "drive.mount('/content/drive')"
      ],
      "execution_count": 2,
      "outputs": [
        {
          "output_type": "stream",
          "name": "stdout",
          "text": [
            "Mounted at /content/drive\n"
          ]
        }
      ]
    },
    {
      "cell_type": "code",
      "metadata": {
        "id": "TvRjwq06OFN5"
      },
      "source": [
        "# !unzip '/content/drive/Shareddrives/DATA_CENTRIC_COMPETITION/LABELED_DATASETS/all_btc.zip'"
      ],
      "execution_count": 3,
      "outputs": []
    },
    {
      "cell_type": "code",
      "metadata": {
        "id": "-neIuExAgvbB"
      },
      "source": [
        "# !git clone https://github.com/carolinepacheco/convert-yolo-to-pascalvoc.git"
      ],
      "execution_count": 4,
      "outputs": []
    },
    {
      "cell_type": "code",
      "metadata": {
        "id": "dU6EcHidmniC"
      },
      "source": [
        "import cv2 as cv"
      ],
      "execution_count": 5,
      "outputs": []
    },
    {
      "cell_type": "code",
      "metadata": {
        "id": "lsQQi_eMmzG9"
      },
      "source": [
        "# !ls '/content/all_btc/images'"
      ],
      "execution_count": 6,
      "outputs": []
    },
    {
      "cell_type": "code",
      "metadata": {
        "id": "B-Wm0qDjtZds",
        "colab": {
          "base_uri": "https://localhost:8080/",
          "height": 1000
        },
        "outputId": "2c9cc7ba-f042-47a7-8c68-391df2e1bfcd"
      },
      "source": [
        "!pip install roboflow"
      ],
      "execution_count": 7,
      "outputs": [
        {
          "output_type": "stream",
          "name": "stdout",
          "text": [
            "Collecting roboflow\n",
            "  Downloading roboflow-0.2.0.tar.gz (14 kB)\n",
            "Collecting certifi==2021.5.30\n",
            "  Downloading certifi-2021.5.30-py2.py3-none-any.whl (145 kB)\n",
            "\u001b[K     |████████████████████████████████| 145 kB 5.1 MB/s \n",
            "\u001b[?25hCollecting chardet==4.0.0\n",
            "  Downloading chardet-4.0.0-py2.py3-none-any.whl (178 kB)\n",
            "\u001b[K     |████████████████████████████████| 178 kB 39.5 MB/s \n",
            "\u001b[?25hCollecting cycler==0.10.0\n",
            "  Downloading cycler-0.10.0-py2.py3-none-any.whl (6.5 kB)\n",
            "Requirement already satisfied: idna==2.10 in /usr/local/lib/python3.7/dist-packages (from roboflow) (2.10)\n",
            "Collecting kiwisolver==1.3.1\n",
            "  Downloading kiwisolver-1.3.1-cp37-cp37m-manylinux1_x86_64.whl (1.1 MB)\n",
            "\u001b[K     |████████████████████████████████| 1.1 MB 46.7 MB/s \n",
            "\u001b[?25hRequirement already satisfied: matplotlib in /usr/local/lib/python3.7/dist-packages (from roboflow) (3.2.2)\n",
            "Requirement already satisfied: numpy>=1.18.5 in /usr/local/lib/python3.7/dist-packages (from roboflow) (1.19.5)\n",
            "Requirement already satisfied: opencv-python>=4.1.2 in /usr/local/lib/python3.7/dist-packages (from roboflow) (4.1.2.30)\n",
            "Requirement already satisfied: Pillow>=7.1.2 in /usr/local/lib/python3.7/dist-packages (from roboflow) (7.1.2)\n",
            "Collecting pyparsing==2.4.7\n",
            "  Downloading pyparsing-2.4.7-py2.py3-none-any.whl (67 kB)\n",
            "\u001b[K     |████████████████████████████████| 67 kB 5.9 MB/s \n",
            "\u001b[?25hRequirement already satisfied: python-dateutil in /usr/local/lib/python3.7/dist-packages (from roboflow) (2.8.2)\n",
            "Collecting python-dotenv\n",
            "  Downloading python_dotenv-0.19.2-py2.py3-none-any.whl (17 kB)\n",
            "Requirement already satisfied: requests in /usr/local/lib/python3.7/dist-packages (from roboflow) (2.23.0)\n",
            "Requirement already satisfied: six in /usr/local/lib/python3.7/dist-packages (from roboflow) (1.15.0)\n",
            "Collecting urllib3==1.26.6\n",
            "  Downloading urllib3-1.26.6-py2.py3-none-any.whl (138 kB)\n",
            "\u001b[K     |████████████████████████████████| 138 kB 50.2 MB/s \n",
            "\u001b[?25hCollecting wget\n",
            "  Downloading wget-3.2.zip (10 kB)\n",
            "Requirement already satisfied: tqdm>=4.41.0 in /usr/local/lib/python3.7/dist-packages (from roboflow) (4.62.3)\n",
            "Collecting PyYAML>=5.3.1\n",
            "  Downloading PyYAML-6.0-cp37-cp37m-manylinux_2_5_x86_64.manylinux1_x86_64.manylinux_2_12_x86_64.manylinux2010_x86_64.whl (596 kB)\n",
            "\u001b[K     |████████████████████████████████| 596 kB 49.2 MB/s \n",
            "\u001b[?25hCollecting requests\n",
            "  Downloading requests-2.26.0-py2.py3-none-any.whl (62 kB)\n",
            "\u001b[K     |████████████████████████████████| 62 kB 782 kB/s \n",
            "\u001b[?25hRequirement already satisfied: charset-normalizer~=2.0.0 in /usr/local/lib/python3.7/dist-packages (from requests->roboflow) (2.0.8)\n",
            "Building wheels for collected packages: roboflow, wget\n",
            "  Building wheel for roboflow (setup.py) ... \u001b[?25l\u001b[?25hdone\n",
            "  Created wheel for roboflow: filename=roboflow-0.2.0-py3-none-any.whl size=20123 sha256=f2a7ecda87ba924292c57ac2526f4b452f2fbb5ca134af3612f8f428dff4a796\n",
            "  Stored in directory: /root/.cache/pip/wheels/9c/fe/2a/ae748046c4c8f06d006de5df1a1774a3d099133d2824ef38a7\n",
            "  Building wheel for wget (setup.py) ... \u001b[?25l\u001b[?25hdone\n",
            "  Created wheel for wget: filename=wget-3.2-py3-none-any.whl size=9672 sha256=bc41676e503abd34f08bf0c0bd3efddbf94a1d325a4d039ca2f2a81f462e0ef3\n",
            "  Stored in directory: /root/.cache/pip/wheels/a1/b6/7c/0e63e34eb06634181c63adacca38b79ff8f35c37e3c13e3c02\n",
            "Successfully built roboflow wget\n",
            "Installing collected packages: urllib3, pyparsing, kiwisolver, cycler, certifi, wget, requests, PyYAML, python-dotenv, chardet, roboflow\n",
            "  Attempting uninstall: urllib3\n",
            "    Found existing installation: urllib3 1.24.3\n",
            "    Uninstalling urllib3-1.24.3:\n",
            "      Successfully uninstalled urllib3-1.24.3\n",
            "  Attempting uninstall: pyparsing\n",
            "    Found existing installation: pyparsing 3.0.6\n",
            "    Uninstalling pyparsing-3.0.6:\n",
            "      Successfully uninstalled pyparsing-3.0.6\n",
            "  Attempting uninstall: kiwisolver\n",
            "    Found existing installation: kiwisolver 1.3.2\n",
            "    Uninstalling kiwisolver-1.3.2:\n",
            "      Successfully uninstalled kiwisolver-1.3.2\n",
            "  Attempting uninstall: cycler\n",
            "    Found existing installation: cycler 0.11.0\n",
            "    Uninstalling cycler-0.11.0:\n",
            "      Successfully uninstalled cycler-0.11.0\n",
            "  Attempting uninstall: certifi\n",
            "    Found existing installation: certifi 2021.10.8\n",
            "    Uninstalling certifi-2021.10.8:\n",
            "      Successfully uninstalled certifi-2021.10.8\n",
            "  Attempting uninstall: requests\n",
            "    Found existing installation: requests 2.23.0\n",
            "    Uninstalling requests-2.23.0:\n",
            "      Successfully uninstalled requests-2.23.0\n",
            "  Attempting uninstall: PyYAML\n",
            "    Found existing installation: PyYAML 3.13\n",
            "    Uninstalling PyYAML-3.13:\n",
            "      Successfully uninstalled PyYAML-3.13\n",
            "  Attempting uninstall: chardet\n",
            "    Found existing installation: chardet 3.0.4\n",
            "    Uninstalling chardet-3.0.4:\n",
            "      Successfully uninstalled chardet-3.0.4\n",
            "\u001b[31mERROR: pip's dependency resolver does not currently take into account all the packages that are installed. This behaviour is the source of the following dependency conflicts.\n",
            "google-colab 1.0.0 requires requests~=2.23.0, but you have requests 2.26.0 which is incompatible.\n",
            "datascience 0.10.6 requires folium==0.2.1, but you have folium 0.8.3 which is incompatible.\n",
            "albumentations 0.1.12 requires imgaug<0.2.7,>=0.2.5, but you have imgaug 0.2.9 which is incompatible.\u001b[0m\n",
            "Successfully installed PyYAML-6.0 certifi-2021.5.30 chardet-4.0.0 cycler-0.10.0 kiwisolver-1.3.1 pyparsing-2.4.7 python-dotenv-0.19.2 requests-2.26.0 roboflow-0.2.0 urllib3-1.26.6 wget-3.2\n"
          ]
        },
        {
          "output_type": "display_data",
          "data": {
            "application/vnd.colab-display-data+json": {
              "pip_warning": {
                "packages": [
                  "cycler",
                  "kiwisolver",
                  "pyparsing"
                ]
              }
            }
          },
          "metadata": {}
        }
      ]
    },
    {
      "cell_type": "code",
      "metadata": {
        "id": "om1-YQO7lbrn"
      },
      "source": [
        "# !python '/content/convert-yolo-to-pascalvoc/yolo_to_ voc.py'"
      ],
      "execution_count": 8,
      "outputs": []
    },
    {
      "cell_type": "code",
      "metadata": {
        "id": "QQgYsjcSmCNx"
      },
      "source": [
        "# !zip -r '/content/drive/Shareddrives/DATA_CENTRIC_COMPETITION/LABELED_DATASETS/all_btc_voc.zip' '/content/all_btc'"
      ],
      "execution_count": 9,
      "outputs": []
    },
    {
      "cell_type": "code",
      "metadata": {
        "id": "vFXbvcbDqu6k",
        "colab": {
          "base_uri": "https://localhost:8080/"
        },
        "outputId": "9b8e9336-1664-47d1-9a57-08307137ba97"
      },
      "source": [
        "!git clone https://github.com/zzh8829/yolov3-tf2"
      ],
      "execution_count": 10,
      "outputs": [
        {
          "output_type": "stream",
          "name": "stdout",
          "text": [
            "Cloning into 'yolov3-tf2'...\n",
            "remote: Enumerating objects: 439, done.\u001b[K\n",
            "remote: Counting objects: 100% (27/27), done.\u001b[K\n",
            "remote: Compressing objects: 100% (27/27), done.\u001b[K\n",
            "remote: Total 439 (delta 10), reused 2 (delta 0), pack-reused 412\u001b[K\n",
            "Receiving objects: 100% (439/439), 4.25 MiB | 19.15 MiB/s, done.\n",
            "Resolving deltas: 100% (247/247), done.\n"
          ]
        }
      ]
    },
    {
      "cell_type": "code",
      "metadata": {
        "id": "R5MNVXqh-Kyh",
        "colab": {
          "base_uri": "https://localhost:8080/"
        },
        "outputId": "966172a0-f0ae-498d-fedd-f4ad4b9d06ce"
      },
      "source": [
        "cd  /content/yolov3-tf2"
      ],
      "execution_count": 11,
      "outputs": [
        {
          "output_type": "stream",
          "name": "stdout",
          "text": [
            "/content/yolov3-tf2\n"
          ]
        }
      ]
    },
    {
      "cell_type": "code",
      "metadata": {
        "id": "pVc9JstgRk6O",
        "colab": {
          "base_uri": "https://localhost:8080/"
        },
        "outputId": "fc3e6330-cef4-44c9-b9d6-cefa91c775a7"
      },
      "source": [
        "from google.colab import drive\n",
        "drive.mount('/content/drive')"
      ],
      "execution_count": 12,
      "outputs": [
        {
          "output_type": "stream",
          "name": "stdout",
          "text": [
            "Drive already mounted at /content/drive; to attempt to forcibly remount, call drive.mount(\"/content/drive\", force_remount=True).\n"
          ]
        }
      ]
    },
    {
      "cell_type": "code",
      "metadata": {
        "id": "lgauIYny98mI",
        "colab": {
          "base_uri": "https://localhost:8080/"
        },
        "outputId": "21ed0c94-41f9-4465-d509-490ba35c824d"
      },
      "source": [
        "!wget https://pjreddie.com/media/files/yolov3-tiny.weights -O data/yolov3-tiny.weights\n",
        "!python convert.py --weights ./data/yolov3-tiny.weights --output ./checkpoints/yolov3-tiny.tf --tiny"
      ],
      "execution_count": 13,
      "outputs": [
        {
          "output_type": "stream",
          "name": "stdout",
          "text": [
            "--2021-12-07 10:19:13--  https://pjreddie.com/media/files/yolov3-tiny.weights\n",
            "Resolving pjreddie.com (pjreddie.com)... 128.208.4.108\n",
            "Connecting to pjreddie.com (pjreddie.com)|128.208.4.108|:443... connected.\n",
            "HTTP request sent, awaiting response... 200 OK\n",
            "Length: 35434956 (34M) [application/octet-stream]\n",
            "Saving to: ‘data/yolov3-tiny.weights’\n",
            "\n",
            "data/yolov3-tiny.we 100%[===================>]  33.79M  43.8MB/s    in 0.8s    \n",
            "\n",
            "2021-12-07 10:19:14 (43.8 MB/s) - ‘data/yolov3-tiny.weights’ saved [35434956/35434956]\n",
            "\n",
            "Model: \"yolov3_tiny\"\n",
            "__________________________________________________________________________________________________\n",
            " Layer (type)                   Output Shape         Param #     Connected to                     \n",
            "==================================================================================================\n",
            " input (InputLayer)             [(None, None, None,  0           []                               \n",
            "                                 3)]                                                              \n",
            "                                                                                                  \n",
            " yolo_darknet (Functional)      ((None, None, None,  6298480     ['input[0][0]']                  \n",
            "                                 256),                                                            \n",
            "                                 (None, None, None,                                               \n",
            "                                 1024))                                                           \n",
            "                                                                                                  \n",
            " yolo_conv_0 (Functional)       (None, None, None,   263168      ['yolo_darknet[0][1]']           \n",
            "                                256)                                                              \n",
            "                                                                                                  \n",
            " yolo_conv_1 (Functional)       (None, None, None,   33280       ['yolo_conv_0[0][0]',            \n",
            "                                384)                              'yolo_darknet[0][0]']           \n",
            "                                                                                                  \n",
            " yolo_output_0 (Functional)     (None, None, None,   1312511     ['yolo_conv_0[0][0]']            \n",
            "                                3, 85)                                                            \n",
            "                                                                                                  \n",
            " yolo_output_1 (Functional)     (None, None, None,   951295      ['yolo_conv_1[0][0]']            \n",
            "                                3, 85)                                                            \n",
            "                                                                                                  \n",
            " yolo_boxes_0 (Lambda)          ((None, None, None,  0           ['yolo_output_0[0][0]']          \n",
            "                                 3, 4),                                                           \n",
            "                                 (None, None, None,                                               \n",
            "                                 3, 1),                                                           \n",
            "                                 (None, None, None,                                               \n",
            "                                 3, 80),                                                          \n",
            "                                 (None, None, None,                                               \n",
            "                                 3, 4))                                                           \n",
            "                                                                                                  \n",
            " yolo_boxes_1 (Lambda)          ((None, None, None,  0           ['yolo_output_1[0][0]']          \n",
            "                                 3, 4),                                                           \n",
            "                                 (None, None, None,                                               \n",
            "                                 3, 1),                                                           \n",
            "                                 (None, None, None,                                               \n",
            "                                 3, 80),                                                          \n",
            "                                 (None, None, None,                                               \n",
            "                                 3, 4))                                                           \n",
            "                                                                                                  \n",
            " yolo_nms (Lambda)              ((1, None, 4),       0           ['yolo_boxes_0[0][0]',           \n",
            "                                 (1, None),                       'yolo_boxes_0[0][1]',           \n",
            "                                 (1, None),                       'yolo_boxes_0[0][2]',           \n",
            "                                 (1,))                            'yolo_boxes_1[0][0]',           \n",
            "                                                                  'yolo_boxes_1[0][1]',           \n",
            "                                                                  'yolo_boxes_1[0][2]']           \n",
            "                                                                                                  \n",
            "==================================================================================================\n",
            "Total params: 8,858,734\n",
            "Trainable params: 8,852,366\n",
            "Non-trainable params: 6,368\n",
            "__________________________________________________________________________________________________\n",
            "I1207 10:19:21.281800 139738777237376 convert.py:24] model created\n",
            "I1207 10:19:21.282346 139738777237376 utils.py:45] yolo_darknet/conv2d bn\n",
            "I1207 10:19:21.284960 139738777237376 utils.py:45] yolo_darknet/conv2d_1 bn\n",
            "I1207 10:19:21.287587 139738777237376 utils.py:45] yolo_darknet/conv2d_2 bn\n",
            "I1207 10:19:21.290199 139738777237376 utils.py:45] yolo_darknet/conv2d_3 bn\n",
            "I1207 10:19:21.293326 139738777237376 utils.py:45] yolo_darknet/conv2d_4 bn\n",
            "I1207 10:19:21.298378 139738777237376 utils.py:45] yolo_darknet/conv2d_5 bn\n",
            "I1207 10:19:21.309247 139738777237376 utils.py:45] yolo_darknet/conv2d_6 bn\n",
            "I1207 10:19:21.343944 139738777237376 utils.py:45] yolo_conv_0/conv2d_7 bn\n",
            "I1207 10:19:21.348410 139738777237376 utils.py:45] yolo_output_0/conv2d_8 bn\n",
            "I1207 10:19:21.357087 139738777237376 utils.py:45] yolo_output_0/conv2d_9 bias\n",
            "I1207 10:19:21.359117 139738777237376 utils.py:45] yolo_conv_1/conv2d_10 bn\n",
            "I1207 10:19:21.361741 139738777237376 utils.py:45] yolo_output_1/conv2d_11 bn\n",
            "I1207 10:19:21.367364 139738777237376 utils.py:45] yolo_output_1/conv2d_12 bias\n",
            "I1207 10:19:21.368956 139738777237376 convert.py:27] weights loaded\n",
            "I1207 10:19:31.808476 139738777237376 convert.py:31] sanity check passed\n",
            "I1207 10:19:31.940885 139738777237376 convert.py:34] weights saved\n"
          ]
        }
      ]
    },
    {
      "cell_type": "code",
      "metadata": {
        "colab": {
          "base_uri": "https://localhost:8080/"
        },
        "id": "DwpsNWDTj28v",
        "outputId": "4dbee5b5-e774-4e65-b55b-5b87c156d962"
      },
      "source": [
        "from roboflow import Roboflow\n",
        "rf = Roboflow(api_key=\"NN4iCAw3BtjYUOje8Iia\")\n",
        "project = rf.workspace().project(\"invoice-duznq\")\n",
        "dataset = project.version(1).download(\"tfrecord\")"
      ],
      "execution_count": 14,
      "outputs": [
        {
          "output_type": "stream",
          "name": "stdout",
          "text": [
            "loading Roboflow workspace...\n",
            "loading Roboflow project...\n",
            "Downloading Dataset Version Zip in Invoice-1 to tfrecord: 100% [2457839 / 2457839] bytes\n"
          ]
        },
        {
          "output_type": "stream",
          "name": "stderr",
          "text": [
            "Extracting Dataset Version Zip to Invoice-1 in tfrecord:: 100%|██████████| 11/11 [00:00<00:00, 320.27it/s]\n"
          ]
        }
      ]
    },
    {
      "cell_type": "code",
      "metadata": {
        "id": "TxQDuHgE-HA-"
      },
      "source": [
        "# !python train.py --batch_size 2 --dataset ./Data/train.record --val_dataset ./Data/val.record --epochs 10 --mode eager_fit --transfer fine_tune --weights ./checkpoints/yolov3-tiny.tf --tiny\n"
      ],
      "execution_count": 15,
      "outputs": []
    },
    {
      "cell_type": "code",
      "metadata": {
        "id": "cFbnazN2_teL"
      },
      "source": [
        "import tensorflow as tf\n"
      ],
      "execution_count": 16,
      "outputs": []
    },
    {
      "cell_type": "code",
      "metadata": {
        "id": "OerBIU2_DFie"
      },
      "source": [
        "# def parse_tfrecord_fn(example):\n",
        "#     feature_description = {\n",
        "#         'image/height': tf.io.FixedLenFeature([], tf.int64),\n",
        "#         'image/width': tf.io.FixedLenFeature([], tf.int64),\n",
        "#         'image/filename': tf.io.FixedLenFeature([], tf.string),\n",
        "#         'image/source_id': tf.io.FixedLenFeature([], tf.string),\n",
        "#         'image/encoded': tf.io.FixedLenFeature([], tf.string),\n",
        "#         'image/format': tf.io.FixedLenFeature([], tf.string),\n",
        "#         'image/object/bbox/xmin': tf.io.VarLenFeature(tf.float32),\n",
        "#         'image/object/bbox/xmax': tf.io.VarLenFeature(tf.float32),\n",
        "#         'image/object/bbox/ymin': tf.io.VarLenFeature(tf.float32),\n",
        "#         'image/object/bbox/ymax': tf.io.VarLenFeature(tf.float32),\n",
        "#         'image/object/class/text': tf.io.VarLenFeature(tf.string),\n",
        "#         'image/object/class/label': tf.io.VarLenFeature(tf.int64),\n",
        "#     }\n",
        "\n",
        "#     example = tf.io.parse_single_example(example, feature_description)\n",
        "#     example['image/encoded'] = tf.io.decode_jpeg(example['image/encoded'], channels=3)\n",
        "#     # example[\"bbox\"] = tf.sparse.to_dense(example[\"bbox\"])\n",
        "#     return example"
      ],
      "execution_count": 17,
      "outputs": []
    },
    {
      "cell_type": "code",
      "metadata": {
        "id": "cbbmPf2nB0c-"
      },
      "source": [
        "# dataset = tf.data.TFRecordDataset('/content/yolov3-tf2/xu-li-anh-4/train/milktea.tfrecord')\n",
        "# dataset = dataset.map(parse_tfrecord_fn)"
      ],
      "execution_count": 18,
      "outputs": []
    },
    {
      "cell_type": "code",
      "metadata": {
        "id": "iy9hTJFJHKAA"
      },
      "source": [
        "# from matplotlib import pyplot as plt"
      ],
      "execution_count": 19,
      "outputs": []
    },
    {
      "cell_type": "code",
      "metadata": {
        "id": "B-YYPQzCB7kr"
      },
      "source": [
        "# for data in dataset.take(1):\n",
        "#     data = data['image/encoded'].numpy()\n",
        "#     plt.imshow(data)"
      ],
      "execution_count": 20,
      "outputs": []
    },
    {
      "cell_type": "code",
      "metadata": {
        "colab": {
          "base_uri": "https://localhost:8080/"
        },
        "id": "gnEWO_8HCAq0",
        "outputId": "1b89b2b6-1a8c-49d4-9edc-a7df57eb5408"
      },
      "source": [
        "!python train.py \\\n",
        "\t--dataset ./Invoice-1/train/Invoice.tfrecord \\\n",
        "\t--val_dataset ./Invoice-1/valid/Invoice.tfrecord \\\n",
        "\t--classes ./Invoice-1/names.names \\\n",
        "\t--num_classes 3 \\\n",
        "\t--mode fit --transfer darknet \\\n",
        "\t--batch_size 2 \\\n",
        "\t--epochs 50 \\\n",
        "\t--weights ./checkpoints/yolov3-tiny.tf \\\n",
        "    --tiny \\\n",
        "\t--weights_num_classes 80  "
      ],
      "execution_count": 25,
      "outputs": [
        {
          "output_type": "stream",
          "name": "stdout",
          "text": [
            "2021-12-07 10:22:22.876306: W tensorflow/core/common_runtime/gpu/gpu_bfc_allocator.cc:39] Overriding allow_growth setting because the TF_FORCE_GPU_ALLOW_GROWTH environment variable is set. Original config value was 0.\n",
            "/usr/local/lib/python3.7/dist-packages/keras/optimizer_v2/adam.py:105: UserWarning: The `lr` argument is deprecated, use `learning_rate` instead.\n",
            "  super(Adam, self).__init__(name, **kwargs)\n",
            "WARNING:tensorflow:Unresolved object in checkpoint: (root).layer-6\n",
            "W1207 10:22:23.951180 140302297294720 util.py:182] Unresolved object in checkpoint: (root).layer-6\n",
            "WARNING:tensorflow:Unresolved object in checkpoint: (root).layer-7\n",
            "W1207 10:22:23.951402 140302297294720 util.py:182] Unresolved object in checkpoint: (root).layer-7\n",
            "WARNING:tensorflow:Unresolved object in checkpoint: (root).layer-8\n",
            "W1207 10:22:23.951523 140302297294720 util.py:182] Unresolved object in checkpoint: (root).layer-8\n",
            "WARNING:tensorflow:A checkpoint was restored (e.g. tf.train.Checkpoint.restore or tf.keras.Model.load_weights) but not all checkpointed values were used. See above for specific issues. Use expect_partial() on the load status object, e.g. tf.train.Checkpoint.restore(...).expect_partial(), to silence these warnings, or use assert_consumed() to make the check explicit. See https://www.tensorflow.org/guide/checkpoint#loading_mechanics for details.\n",
            "W1207 10:22:23.951667 140302297294720 util.py:190] A checkpoint was restored (e.g. tf.train.Checkpoint.restore or tf.keras.Model.load_weights) but not all checkpointed values were used. See above for specific issues. Use expect_partial() on the load status object, e.g. tf.train.Checkpoint.restore(...).expect_partial(), to silence these warnings, or use assert_consumed() to make the check explicit. See https://www.tensorflow.org/guide/checkpoint#loading_mechanics for details.\n",
            "Epoch 1/50\n",
            "WARNING:tensorflow:From /usr/local/lib/python3.7/dist-packages/tensorflow/python/util/deprecation.py:620: calling map_fn_v2 (from tensorflow.python.ops.map_fn) with dtype is deprecated and will be removed in a future version.\n",
            "Instructions for updating:\n",
            "Use fn_output_signature instead\n",
            "W1207 10:22:27.223639 140302297294720 deprecation.py:551] From /usr/local/lib/python3.7/dist-packages/tensorflow/python/util/deprecation.py:620: calling map_fn_v2 (from tensorflow.python.ops.map_fn) with dtype is deprecated and will be removed in a future version.\n",
            "Instructions for updating:\n",
            "Use fn_output_signature instead\n",
            "     35/Unknown - 10s 47ms/step - loss: 653.0229 - yolo_output_0_loss: 131.4587 - yolo_output_1_loss: 517.8238\n",
            "Epoch 00001: saving model to checkpoints/yolov3_train_1.tf\n",
            "35/35 [==============================] - 13s 136ms/step - loss: 653.0229 - yolo_output_0_loss: 131.4587 - yolo_output_1_loss: 517.8238 - val_loss: 422.9621 - val_yolo_output_0_loss: 39.5952 - val_yolo_output_1_loss: 379.6133 - lr: 0.0010\n",
            "Epoch 2/50\n",
            "35/35 [==============================] - ETA: 0s - loss: 78.9104 - yolo_output_0_loss: 12.9043 - yolo_output_1_loss: 62.2499\n",
            "Epoch 00002: saving model to checkpoints/yolov3_train_2.tf\n",
            "35/35 [==============================] - 3s 90ms/step - loss: 78.9104 - yolo_output_0_loss: 12.9043 - yolo_output_1_loss: 62.2499 - val_loss: 200.6410 - val_yolo_output_0_loss: 23.7459 - val_yolo_output_1_loss: 173.1379 - lr: 0.0010\n",
            "Epoch 3/50\n",
            "34/35 [============================>.] - ETA: 0s - loss: 38.8502 - yolo_output_0_loss: 5.3159 - yolo_output_1_loss: 29.7772\n",
            "Epoch 00003: saving model to checkpoints/yolov3_train_3.tf\n",
            "35/35 [==============================] - 3s 92ms/step - loss: 38.7387 - yolo_output_0_loss: 5.4225 - yolo_output_1_loss: 29.5591 - val_loss: 84.7757 - val_yolo_output_0_loss: 8.3367 - val_yolo_output_1_loss: 72.6821 - lr: 0.0010\n",
            "Epoch 4/50\n",
            "34/35 [============================>.] - ETA: 0s - loss: 27.4575 - yolo_output_0_loss: 4.2265 - yolo_output_1_loss: 19.4740\n",
            "Epoch 00004: saving model to checkpoints/yolov3_train_4.tf\n",
            "35/35 [==============================] - 4s 97ms/step - loss: 27.4048 - yolo_output_0_loss: 4.1858 - yolo_output_1_loss: 19.4620 - val_loss: 50.8642 - val_yolo_output_0_loss: 6.5716 - val_yolo_output_1_loss: 40.5355 - lr: 0.0010\n",
            "Epoch 5/50\n",
            "34/35 [============================>.] - ETA: 0s - loss: 21.7939 - yolo_output_0_loss: 3.2865 - yolo_output_1_loss: 14.7502\n",
            "Epoch 00005: saving model to checkpoints/yolov3_train_5.tf\n",
            "35/35 [==============================] - 4s 96ms/step - loss: 21.6787 - yolo_output_0_loss: 3.3292 - yolo_output_1_loss: 14.5922 - val_loss: 35.2214 - val_yolo_output_0_loss: 4.3327 - val_yolo_output_1_loss: 27.1313 - lr: 0.0010\n",
            "Epoch 6/50\n",
            "34/35 [============================>.] - ETA: 0s - loss: 18.3832 - yolo_output_0_loss: 2.7348 - yolo_output_1_loss: 11.8908\n",
            "Epoch 00006: saving model to checkpoints/yolov3_train_6.tf\n",
            "35/35 [==============================] - 3s 94ms/step - loss: 18.2622 - yolo_output_0_loss: 2.7231 - yolo_output_1_loss: 11.7815 - val_loss: 23.8652 - val_yolo_output_0_loss: 3.3675 - val_yolo_output_1_loss: 16.7397 - lr: 0.0010\n",
            "Epoch 7/50\n",
            "35/35 [==============================] - ETA: 0s - loss: 15.1903 - yolo_output_0_loss: 2.2264 - yolo_output_1_loss: 9.2057\n",
            "Epoch 00007: saving model to checkpoints/yolov3_train_7.tf\n",
            "35/35 [==============================] - 4s 99ms/step - loss: 15.1903 - yolo_output_0_loss: 2.2264 - yolo_output_1_loss: 9.2057 - val_loss: 18.8328 - val_yolo_output_0_loss: 2.3616 - val_yolo_output_1_loss: 12.7129 - lr: 0.0010\n",
            "Epoch 8/50\n",
            "35/35 [==============================] - ETA: 0s - loss: 13.0341 - yolo_output_0_loss: 1.6908 - yolo_output_1_loss: 7.5847\n",
            "Epoch 00008: saving model to checkpoints/yolov3_train_8.tf\n",
            "35/35 [==============================] - 3s 91ms/step - loss: 13.0341 - yolo_output_0_loss: 1.6908 - yolo_output_1_loss: 7.5847 - val_loss: 15.7266 - val_yolo_output_0_loss: 2.2627 - val_yolo_output_1_loss: 9.7052 - lr: 0.0010\n",
            "Epoch 9/50\n",
            "35/35 [==============================] - ETA: 0s - loss: 11.7854 - yolo_output_0_loss: 1.4769 - yolo_output_1_loss: 6.5498\n",
            "Epoch 00009: saving model to checkpoints/yolov3_train_9.tf\n",
            "35/35 [==============================] - 4s 94ms/step - loss: 11.7854 - yolo_output_0_loss: 1.4769 - yolo_output_1_loss: 6.5498 - val_loss: 13.7986 - val_yolo_output_0_loss: 1.5515 - val_yolo_output_1_loss: 8.4881 - lr: 0.0010\n",
            "Epoch 10/50\n",
            "34/35 [============================>.] - ETA: 0s - loss: 10.6615 - yolo_output_0_loss: 1.1898 - yolo_output_1_loss: 5.7128\n",
            "Epoch 00010: saving model to checkpoints/yolov3_train_10.tf\n",
            "35/35 [==============================] - 4s 98ms/step - loss: 10.6538 - yolo_output_0_loss: 1.2229 - yolo_output_1_loss: 5.6720 - val_loss: 12.5121 - val_yolo_output_0_loss: 1.3379 - val_yolo_output_1_loss: 7.4153 - lr: 0.0010\n",
            "Epoch 11/50\n",
            "35/35 [==============================] - ETA: 0s - loss: 9.9126 - yolo_output_0_loss: 1.1065 - yolo_output_1_loss: 5.0470\n",
            "Epoch 00011: saving model to checkpoints/yolov3_train_11.tf\n",
            "35/35 [==============================] - 4s 99ms/step - loss: 9.9126 - yolo_output_0_loss: 1.1065 - yolo_output_1_loss: 5.0470 - val_loss: 11.8771 - val_yolo_output_0_loss: 1.2045 - val_yolo_output_1_loss: 6.9134 - lr: 0.0010\n",
            "Epoch 12/50\n",
            "35/35 [==============================] - ETA: 0s - loss: 9.3712 - yolo_output_0_loss: 1.1011 - yolo_output_1_loss: 4.5109\n",
            "Epoch 00012: saving model to checkpoints/yolov3_train_12.tf\n",
            "35/35 [==============================] - 4s 95ms/step - loss: 9.3712 - yolo_output_0_loss: 1.1011 - yolo_output_1_loss: 4.5109 - val_loss: 10.0877 - val_yolo_output_0_loss: 1.1166 - val_yolo_output_1_loss: 5.2117 - lr: 0.0010\n",
            "Epoch 13/50\n",
            "35/35 [==============================] - ETA: 0s - loss: 8.7895 - yolo_output_0_loss: 1.1542 - yolo_output_1_loss: 3.8757\n",
            "Epoch 00013: saving model to checkpoints/yolov3_train_13.tf\n",
            "35/35 [==============================] - 4s 97ms/step - loss: 8.7895 - yolo_output_0_loss: 1.1542 - yolo_output_1_loss: 3.8757 - val_loss: 10.2523 - val_yolo_output_0_loss: 1.1017 - val_yolo_output_1_loss: 5.3909 - lr: 0.0010\n",
            "Epoch 14/50\n",
            "34/35 [============================>.] - ETA: 0s - loss: 8.6856 - yolo_output_0_loss: 1.4834 - yolo_output_1_loss: 3.4422\n",
            "Epoch 00014: saving model to checkpoints/yolov3_train_14.tf\n",
            "35/35 [==============================] - 4s 96ms/step - loss: 8.6833 - yolo_output_0_loss: 1.4498 - yolo_output_1_loss: 3.4735 - val_loss: 9.4083 - val_yolo_output_0_loss: 1.0600 - val_yolo_output_1_loss: 4.5879 - lr: 0.0010\n",
            "Epoch 15/50\n",
            "35/35 [==============================] - ETA: 0s - loss: 8.0626 - yolo_output_0_loss: 1.3292 - yolo_output_1_loss: 2.9725\n",
            "Epoch 00015: saving model to checkpoints/yolov3_train_15.tf\n",
            "35/35 [==============================] - 3s 92ms/step - loss: 8.0626 - yolo_output_0_loss: 1.3292 - yolo_output_1_loss: 2.9725 - val_loss: 9.2670 - val_yolo_output_0_loss: 1.1057 - val_yolo_output_1_loss: 4.4001 - lr: 0.0010\n",
            "Epoch 16/50\n",
            "34/35 [============================>.] - ETA: 0s - loss: 7.5397 - yolo_output_0_loss: 1.1257 - yolo_output_1_loss: 2.6526\n",
            "Epoch 00016: saving model to checkpoints/yolov3_train_16.tf\n",
            "35/35 [==============================] - 4s 97ms/step - loss: 7.5254 - yolo_output_0_loss: 1.1183 - yolo_output_1_loss: 2.6458 - val_loss: 9.1496 - val_yolo_output_0_loss: 1.1915 - val_yolo_output_1_loss: 4.1966 - lr: 0.0010\n",
            "Epoch 17/50\n",
            "34/35 [============================>.] - ETA: 0s - loss: 7.2230 - yolo_output_0_loss: 0.9722 - yolo_output_1_loss: 2.4893\n",
            "Epoch 00017: saving model to checkpoints/yolov3_train_17.tf\n",
            "35/35 [==============================] - 4s 96ms/step - loss: 7.1797 - yolo_output_0_loss: 0.9632 - yolo_output_1_loss: 2.4550 - val_loss: 8.6818 - val_yolo_output_0_loss: 0.9238 - val_yolo_output_1_loss: 3.9964 - lr: 0.0010\n",
            "Epoch 18/50\n",
            "35/35 [==============================] - ETA: 0s - loss: 6.5449 - yolo_output_0_loss: 0.6124 - yolo_output_1_loss: 2.1709\n",
            "Epoch 00018: saving model to checkpoints/yolov3_train_18.tf\n",
            "35/35 [==============================] - 3s 92ms/step - loss: 6.5449 - yolo_output_0_loss: 0.6124 - yolo_output_1_loss: 2.1709 - val_loss: 8.4624 - val_yolo_output_0_loss: 0.7444 - val_yolo_output_1_loss: 3.9564 - lr: 0.0010\n",
            "Epoch 19/50\n",
            "34/35 [============================>.] - ETA: 0s - loss: 6.2967 - yolo_output_0_loss: 0.4770 - yolo_output_1_loss: 2.0583\n",
            "Epoch 00019: saving model to checkpoints/yolov3_train_19.tf\n",
            "35/35 [==============================] - 3s 89ms/step - loss: 6.2834 - yolo_output_0_loss: 0.4683 - yolo_output_1_loss: 2.0537 - val_loss: 8.2358 - val_yolo_output_0_loss: 0.7629 - val_yolo_output_1_loss: 3.7117 - lr: 0.0010\n",
            "Epoch 20/50\n",
            "35/35 [==============================] - ETA: 0s - loss: 6.0848 - yolo_output_0_loss: 0.4608 - yolo_output_1_loss: 1.8629\n",
            "Epoch 00020: saving model to checkpoints/yolov3_train_20.tf\n",
            "35/35 [==============================] - 3s 93ms/step - loss: 6.0848 - yolo_output_0_loss: 0.4608 - yolo_output_1_loss: 1.8629 - val_loss: 7.6929 - val_yolo_output_0_loss: 0.5993 - val_yolo_output_1_loss: 3.3326 - lr: 0.0010\n",
            "Epoch 21/50\n",
            "34/35 [============================>.] - ETA: 0s - loss: 5.8049 - yolo_output_0_loss: 0.3629 - yolo_output_1_loss: 1.6813\n",
            "Epoch 00021: saving model to checkpoints/yolov3_train_21.tf\n",
            "35/35 [==============================] - 4s 94ms/step - loss: 5.8045 - yolo_output_0_loss: 0.3721 - yolo_output_1_loss: 1.6716 - val_loss: 7.9844 - val_yolo_output_0_loss: 0.7352 - val_yolo_output_1_loss: 3.4885 - lr: 0.0010\n",
            "Epoch 22/50\n",
            "34/35 [============================>.] - ETA: 0s - loss: 5.5825 - yolo_output_0_loss: 0.3301 - yolo_output_1_loss: 1.4920\n",
            "Epoch 00022: saving model to checkpoints/yolov3_train_22.tf\n",
            "35/35 [==============================] - 4s 98ms/step - loss: 5.5897 - yolo_output_0_loss: 0.3276 - yolo_output_1_loss: 1.5017 - val_loss: 7.8448 - val_yolo_output_0_loss: 0.5851 - val_yolo_output_1_loss: 3.4996 - lr: 0.0010\n",
            "Epoch 23/50\n",
            "34/35 [============================>.] - ETA: 0s - loss: 5.4843 - yolo_output_0_loss: 0.2869 - yolo_output_1_loss: 1.4374\n",
            "Epoch 00023: saving model to checkpoints/yolov3_train_23.tf\n",
            "35/35 [==============================] - 4s 102ms/step - loss: 5.4854 - yolo_output_0_loss: 0.2923 - yolo_output_1_loss: 1.4333 - val_loss: 7.7319 - val_yolo_output_0_loss: 0.6189 - val_yolo_output_1_loss: 3.3534 - lr: 0.0010\n",
            "Epoch 00023: early stopping\n",
            "Total Training Time: 114.14630174636841\n"
          ]
        }
      ]
    },
    {
      "cell_type": "code",
      "metadata": {
        "id": "3TMuh8IuN13c"
      },
      "source": [
        "# # yolov3-tiny\n",
        "# !python detect.py \\\n",
        "# --weights ./checkpoints/yolov3_train_50.tf \\\n",
        "# --tiny \\\n",
        "# --classes ./Data/names.names \\\n",
        "# --num_classes 2 \\\n",
        "# --image ./infer_data/257951380_620511652637395_9172058425162928419_n.jpg"
      ],
      "execution_count": 22,
      "outputs": []
    },
    {
      "cell_type": "code",
      "metadata": {
        "id": "_rnyyH7yQAn9",
        "colab": {
          "base_uri": "https://localhost:8080/"
        },
        "outputId": "68e8df6b-2b05-405e-c719-c0fc00abad88"
      },
      "source": [
        "!python detect.py \\\n",
        "\t--classes ./Invoice-1/names.names \\\n",
        "\t--num_classes 3 \\\n",
        "\t--weights ./checkpoints/yolov3_train_23.tf \\\n",
        "\t--tfrecord ./Invoice-1/test/Invoice.tfrecord \\\n",
        "    --tiny"
      ],
      "execution_count": 26,
      "outputs": [
        {
          "output_type": "stream",
          "name": "stdout",
          "text": [
            "I1207 10:26:54.101838 140309267240832 detect.py:35] weights loaded\n",
            "I1207 10:26:54.102207 140309267240832 detect.py:38] classes loaded\n",
            "I1207 10:26:55.922649 140309267240832 detect.py:55] time: 1.5323631763458252\n",
            "I1207 10:26:55.922854 140309267240832 detect.py:57] detections:\n",
            "I1207 10:26:55.963742 140309267240832 detect.py:66] output saved to: ./output.jpg\n"
          ]
        }
      ]
    },
    {
      "cell_type": "code",
      "metadata": {
        "id": "uKHvBoB3xrQ0",
        "colab": {
          "base_uri": "https://localhost:8080/"
        },
        "outputId": "611e87f1-49ba-463c-ee43-dccb76636939"
      },
      "source": [
        "!python tools/visualize_dataset.py --classes=./Receipt-OCR-2/names.names"
      ],
      "execution_count": 24,
      "outputs": [
        {
          "output_type": "stream",
          "name": "stdout",
          "text": [
            "Traceback (most recent call last):\n",
            "  File \"tools/visualize_dataset.py\", line 7, in <module>\n",
            "    from yolov3_tf2.models import (\n",
            "ModuleNotFoundError: No module named 'yolov3_tf2'\n"
          ]
        }
      ]
    }
  ]
}